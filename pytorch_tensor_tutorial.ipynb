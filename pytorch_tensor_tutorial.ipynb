{
 "cells": [
  {
   "cell_type": "markdown",
   "id": "3fc0bff3",
   "metadata": {},
   "source": [
    "### 📌 تعریف یک لیست دو‌بعدی پایتون"
   ]
  },
  {
   "cell_type": "code",
   "execution_count": null,
   "id": "8626b1e8",
   "metadata": {},
   "outputs": [],
   "source": [
    "import torch\n",
    "import numpy as np"
   ]
  },
  {
   "cell_type": "code",
   "execution_count": null,
   "id": "e1fa32e7",
   "metadata": {},
   "outputs": [],
   "source": [
    "data = [[1, 2], [3, 4], [5, 6]]"
   ]
  },
  {
   "cell_type": "markdown",
   "id": "5ccc253c",
   "metadata": {},
   "source": [
    "### 🔎 مشاهده محتوای لیست"
   ]
  },
  {
   "cell_type": "code",
   "execution_count": null,
   "id": "c49ab3bf",
   "metadata": {},
   "outputs": [],
   "source": [
    "data"
   ]
  },
  {
   "cell_type": "code",
   "execution_count": null,
   "id": "ec56e171",
   "metadata": {},
   "outputs": [],
   "source": [
    "type(data)"
   ]
  },
  {
   "cell_type": "markdown",
   "id": "2e347d97",
   "metadata": {},
   "source": [
    "### 🧮 تبدیل لیست پایتونی به آرایه NumPy"
   ]
  },
  {
   "cell_type": "code",
   "execution_count": null,
   "id": "75d26a93",
   "metadata": {},
   "outputs": [],
   "source": [
    "np_data = np.array(data)\n",
    "np_data"
   ]
  },
  {
   "cell_type": "markdown",
   "id": "2c0588c0",
   "metadata": {},
   "source": [
    "### 🔥 تبدیل لیست پایتونی به Tensor در PyTorch"
   ]
  },
  {
   "cell_type": "code",
   "execution_count": null,
   "id": "ff771c97",
   "metadata": {},
   "outputs": [],
   "source": [
    "torch_data = torch.tensor(data)\n",
    "torch_data"
   ]
  },
  {
   "cell_type": "markdown",
   "id": "7962ba1e",
   "metadata": {},
   "source": [
    "### 🔄 تبدیل آرایه NumPy به تنسور PyTorch"
   ]
  },
  {
   "cell_type": "code",
   "execution_count": null,
   "id": "986c011e",
   "metadata": {},
   "outputs": [],
   "source": [
    "tensor = torch.from_numpy(np_data)\n",
    "tensor"
   ]
  },
  {
   "cell_type": "markdown",
   "id": "0a885b0a",
   "metadata": {},
   "source": [
    "### ⚡ انتقال تنسور به GPU (در صورت در دسترس بودن)"
   ]
  },
  {
   "cell_type": "code",
   "execution_count": null,
   "id": "c7130dea",
   "metadata": {},
   "outputs": [],
   "source": [
    "if torch.cuda.is_available():\n",
    "    tensor = tensor.to(\"cuda\")\n",
    "    print(f\"stored in :{tensor.device}\")\n",
    "else:\n",
    "    print(\"oops!\")"
   ]
  },
  {
   "cell_type": "markdown",
   "id": "d2fb7162",
   "metadata": {},
   "source": [
    "### ✅ بررسی تنسور بعد از انتقال به GPU"
   ]
  },
  {
   "cell_type": "code",
   "execution_count": null,
   "id": "4e726e08",
   "metadata": {},
   "outputs": [],
   "source": [
    "tensor"
   ]
  },
  {
   "cell_type": "markdown",
   "id": "1a8ca783",
   "metadata": {},
   "source": [
    "### 🔢 عملیات ضرب عنصر به عنصر (element-wise multiplication)"
   ]
  },
  {
   "cell_type": "code",
   "execution_count": null,
   "id": "08f0b391",
   "metadata": {},
   "outputs": [],
   "source": [
    "tensor * tensor"
   ]
  },
  {
   "cell_type": "markdown",
   "id": "317dc274",
   "metadata": {},
   "source": [
    "### ⚡ توان‌گذاری هر عنصر از تنسور"
   ]
  },
  {
   "cell_type": "code",
   "execution_count": null,
   "id": "3c559360",
   "metadata": {},
   "outputs": [],
   "source": [
    "tensor ** 28"
   ]
  },
  {
   "cell_type": "markdown",
   "id": "9de07f9c",
   "metadata": {},
   "source": [
    "### 🔁 ضرب تنسور در یک عدد اسکالر"
   ]
  },
  {
   "cell_type": "code",
   "execution_count": null,
   "id": "23ad9bcb",
   "metadata": {},
   "outputs": [],
   "source": [
    "tensor.mul(3)"
   ]
  },
  {
   "cell_type": "markdown",
   "id": "a40ed7b2",
   "metadata": {},
   "source": [
    "### 🧩 الحاق تنسورها در راستای محور ستون‌ها (dim=1)"
   ]
  },
  {
   "cell_type": "code",
   "execution_count": null,
   "id": "40737aa3",
   "metadata": {},
   "outputs": [],
   "source": [
    "torch.cat([tensor, tensor, tensor], dim=1)"
   ]
  }
 ],
 "metadata": {},
 "nbformat": 4,
 "nbformat_minor": 5
}
